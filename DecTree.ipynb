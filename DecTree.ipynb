{
 "cells": [
  {
   "cell_type": "code",
   "execution_count": 1,
   "metadata": {},
   "outputs": [],
   "source": [
    "import numpy as np\n",
    "import pandas as pd"
   ]
  },
  {
   "cell_type": "code",
   "execution_count": 2,
   "metadata": {},
   "outputs": [],
   "source": [
    "data = pd.read_csv('nursery.csv')\n",
    "y = data.Class"
   ]
  },
  {
   "cell_type": "code",
   "execution_count": 3,
   "metadata": {},
   "outputs": [],
   "source": [
    "cpx = data"
   ]
  },
  {
   "cell_type": "code",
   "execution_count": 4,
   "metadata": {},
   "outputs": [],
   "source": [
    "cpx = cpx.drop(columns =[\"Class\"], axis = 1)\n",
    "dum_x = pd.get_dummies(cpx)"
   ]
  },
  {
   "cell_type": "code",
   "execution_count": 5,
   "metadata": {},
   "outputs": [],
   "source": [
    "from sklearn.model_selection import train_test_split\n",
    "X_train, X_test, y_train, y_test=train_test_split(dum_x, y, test_size=0.2)\n"
   ]
  },
  {
   "cell_type": "code",
   "execution_count": 6,
   "metadata": {},
   "outputs": [
    {
     "data": {
      "text/plain": [
       "DecisionTreeClassifier(class_weight=None, criterion='entropy', max_depth=None,\n",
       "                       max_features=None, max_leaf_nodes=None,\n",
       "                       min_impurity_decrease=0.0, min_impurity_split=None,\n",
       "                       min_samples_leaf=1, min_samples_split=2,\n",
       "                       min_weight_fraction_leaf=0.0, presort=False,\n",
       "                       random_state=100, splitter='best')"
      ]
     },
     "execution_count": 6,
     "metadata": {},
     "output_type": "execute_result"
    }
   ],
   "source": [
    "from sklearn.tree import DecisionTreeClassifier\n",
    "clsi = DecisionTreeClassifier(criterion = 'entropy', random_state = 100)\n",
    "clsi.fit(X_train, y_train)"
   ]
  },
  {
   "cell_type": "code",
   "execution_count": 7,
   "metadata": {},
   "outputs": [
    {
     "name": "stdout",
     "output_type": "stream",
     "text": [
      "['spec_prior' 'priority' 'spec_prior' ... 'not_recom' 'spec_prior'\n",
      " 'not_recom']\n"
     ]
    }
   ],
   "source": [
    "databaru = X_test.iloc[1290]\n",
    "ya_pred = clsi.predict(X_test)\n",
    "print(ya_pred)"
   ]
  },
  {
   "cell_type": "code",
   "execution_count": 8,
   "metadata": {},
   "outputs": [],
   "source": [
    "dum_ytest = pd.get_dummies(y_test)\n",
    "dum_ypred = pd.get_dummies(ya_pred)"
   ]
  },
  {
   "cell_type": "code",
   "execution_count": 9,
   "metadata": {},
   "outputs": [],
   "source": [
    "from sklearn.metrics import confusion_matrix\n",
    "coma = confusion_matrix(y_test, ya_pred)\n",
    "coma1 = confusion_matrix(dum_ytest['not_recom'], dum_ypred['not_recom'])\n",
    "coma2 = confusion_matrix(dum_ytest['priority'], dum_ypred['priority'])\n",
    "coma3 = confusion_matrix(dum_ytest['spec_prior'], dum_ypred['spec_prior'])\n",
    "coma4 = confusion_matrix(dum_ytest['very_recom'], dum_ypred['very_recom'])\n"
   ]
  },
  {
   "cell_type": "code",
   "execution_count": 10,
   "metadata": {},
   "outputs": [],
   "source": [
    "ac=0\n",
    "for i in range(4):\n",
    "    ac += coma[i][i]\n",
    "acuracy = ac/len(y_test)\n",
    "\n",
    "presisi = ((coma1[1][1] + coma2[1][1] + coma3[1][1] + coma4[1][1])/\n",
    "           ((coma1[1][1]+coma1[1][0])+(coma2[1][1]+coma2[1][0])+\n",
    "            (coma3[1][1]+coma3[1][0])+(coma4[1][1]+coma4[1][0])))\n",
    "\n",
    "recall = ((coma1[1][1] + coma2[1][1] + coma3[1][1] + coma4[1][1])/\n",
    "           ((coma1[0][0]+coma1[1][1])+(coma2[0][0]+coma2[1][1])+\n",
    "            (coma3[0][0]+coma3[1][1])+(coma4[0][0]+coma4[1][1])))\n"
   ]
  },
  {
   "cell_type": "code",
   "execution_count": 11,
   "metadata": {},
   "outputs": [
    {
     "data": {
      "text/plain": [
       "0.9729938271604939"
      ]
     },
     "execution_count": 11,
     "metadata": {},
     "output_type": "execute_result"
    }
   ],
   "source": [
    "acuracy"
   ]
  },
  {
   "cell_type": "code",
   "execution_count": 12,
   "metadata": {},
   "outputs": [
    {
     "data": {
      "text/plain": [
       "0.9972983404091085"
      ]
     },
     "execution_count": 12,
     "metadata": {},
     "output_type": "execute_result"
    }
   ],
   "source": [
    "presisi"
   ]
  },
  {
   "cell_type": "code",
   "execution_count": 13,
   "metadata": {},
   "outputs": [
    {
     "data": {
      "text/plain": [
       "0.24956538535831563"
      ]
     },
     "execution_count": 13,
     "metadata": {},
     "output_type": "execute_result"
    }
   ],
   "source": [
    "recall"
   ]
  },
  {
   "cell_type": "code",
   "execution_count": 14,
   "metadata": {},
   "outputs": [
    {
     "data": {
      "text/plain": [
       "array([[852,   0,   0,   0,   0],\n",
       "       [  0, 863,   0,   1,   0],\n",
       "       [  0,   0,   1,   0,   0],\n",
       "       [  0,   4,   0, 806,   0],\n",
       "       [  0,   2,   0,   0,  63]], dtype=int64)"
      ]
     },
     "execution_count": 14,
     "metadata": {},
     "output_type": "execute_result"
    }
   ],
   "source": [
    "coma"
   ]
  },
  {
   "cell_type": "code",
   "execution_count": null,
   "metadata": {},
   "outputs": [],
   "source": []
  }
 ],
 "metadata": {
  "kernelspec": {
   "display_name": "Python 3",
   "language": "python",
   "name": "python3"
  },
  "language_info": {
   "codemirror_mode": {
    "name": "ipython",
    "version": 3
   },
   "file_extension": ".py",
   "mimetype": "text/x-python",
   "name": "python",
   "nbconvert_exporter": "python",
   "pygments_lexer": "ipython3",
   "version": "3.7.3"
  }
 },
 "nbformat": 4,
 "nbformat_minor": 2
}
